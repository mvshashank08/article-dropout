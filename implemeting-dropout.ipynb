{
 "cells": [
  {
   "cell_type": "code",
   "execution_count": 1,
   "metadata": {},
   "outputs": [],
   "source": [
    "import numpy as np\n",
    "import matplotlib.pyplot as plt\n",
    "\n",
    "from tensorflow import keras\n",
    "from tensorflow.keras.layers import Dense, Dropout"
   ]
  },
  {
   "cell_type": "code",
   "execution_count": 2,
   "metadata": {},
   "outputs": [
    {
     "name": "stdout",
     "output_type": "stream",
     "text": [
      "X_train: (60000, 28, 28), y_train: (60000,)\n",
      "X_test: (10000, 28, 28), y_test: (10000,)\n"
     ]
    }
   ],
   "source": [
    "(X_train, y_train), (X_test, y_test) = keras.datasets.mnist.load_data()\n",
    "\n",
    "print(\"X_train: {}, y_train: {}\".format(X_train.shape, y_train.shape))\n",
    "print(\"X_test: {}, y_test: {}\".format(X_test.shape, y_test.shape))"
   ]
  },
  {
   "cell_type": "code",
   "execution_count": 3,
   "metadata": {},
   "outputs": [
    {
     "data": {
      "image/png": "[encoded data removed]",
      "text/plain": [
       "<Figure size 432x288 with 1 Axes>"
      ]
     },
     "metadata": {
      "needs_background": "light"
     },
     "output_type": "display_data"
    }
   ],
   "source": [
    "plt.imshow(X_train[0], cmap=\"gray\")\n",
    "plt.show()"
   ]
  },
  {
   "cell_type": "code",
   "execution_count": 4,
   "metadata": {},
   "outputs": [
    {
     "name": "stdout",
     "output_type": "stream",
     "text": [
      "X_train: (60000, 784), y_train: (60000, 10)\n",
      "X_test: (10000, 784), y_test: (10000, 10)\n"
     ]
    }
   ],
   "source": [
    "X_train = X_train.reshape(X_train.shape[0], -1)/ 255\n",
    "X_test = X_test.reshape(X_test.shape[0], -1)/ 255\n",
    "\n",
    "y_train = keras.utils.to_categorical(y_train)\n",
    "y_test = keras.utils.to_categorical(y_test)\n",
    "\n",
    "num_classes = y_test.shape[1]\n",
    "\n",
    "print(\"X_train: {}, y_train: {}\".format(X_train.shape, y_train.shape))\n",
    "print(\"X_test: {}, y_test: {}\".format(X_test.shape, y_test.shape))"
   ]
  },
  {
   "cell_type": "code",
   "execution_count": 5,
   "metadata": {},
   "outputs": [],
   "source": [
    "def create_model(dropout_rate=0.0):\n",
    "    if(dropout_rate > 0.0):\n",
    "        model = keras.Sequential([\n",
    "            Dense(512),\n",
    "            Dropout(rate=dropout_rate),\n",
    "            Dense(256),\n",
    "            Dropout(rate=dropout_rate),\n",
    "            Dense(128),\n",
    "            Dropout(rate=dropout_rate),\n",
    "            Dense(num_classes, activation=\"softmax\")\n",
    "        ])\n",
    "    else:\n",
    "        model = keras.Sequential([\n",
    "            Dense(512),\n",
    "            Dense(256),\n",
    "            Dense(128),\n",
    "            Dense(num_classes, activation=\"softmax\")\n",
    "        ])\n",
    "    \n",
    "    # Compile model\n",
    "    model.compile(loss='categorical_crossentropy', optimizer='sgd', metrics=['accuracy'])\n",
    "    return model"
   ]
  },
  {
   "cell_type": "code",
   "execution_count": 6,
   "metadata": {
    "scrolled": true
   },
   "outputs": [
    {
     "name": "stdout",
     "output_type": "stream",
     "text": [
      "Train on 60000 samples, validate on 10000 samples\n",
      "Epoch 1/20\n",
      "60000/60000 [==============================] - 5s 84us/sample - loss: 1.4019 - accuracy: 0.5514 - val_loss: 0.4897 - val_accuracy: 0.8628\n",
      "Epoch 2/20\n",
      "60000/60000 [==============================] - 5s 80us/sample - loss: 0.7957 - accuracy: 0.7456 - val_loss: 0.4014 - val_accuracy: 0.8846\n",
      "Epoch 3/20\n",
      "60000/60000 [==============================] - 5s 85us/sample - loss: 0.6849 - accuracy: 0.7867 - val_loss: 0.3704 - val_accuracy: 0.8923\n",
      "Epoch 4/20\n",
      "60000/60000 [==============================] - 5s 82us/sample - loss: 0.6304 - accuracy: 0.8060 - val_loss: 0.3518 - val_accuracy: 0.8979\n",
      "Epoch 5/20\n",
      "60000/60000 [==============================] - 5s 82us/sample - loss: 0.5924 - accuracy: 0.8205 - val_loss: 0.3394 - val_accuracy: 0.9020\n",
      "Epoch 6/20\n",
      "60000/60000 [==============================] - 5s 83us/sample - loss: 0.5624 - accuracy: 0.8299 - val_loss: 0.3325 - val_accuracy: 0.9058\n",
      "Epoch 7/20\n",
      "60000/60000 [==============================] - 5s 81us/sample - loss: 0.5494 - accuracy: 0.8360 - val_loss: 0.3276 - val_accuracy: 0.9069\n",
      "Epoch 8/20\n",
      "60000/60000 [==============================] - 5s 84us/sample - loss: 0.5246 - accuracy: 0.8439 - val_loss: 0.3224 - val_accuracy: 0.9082\n",
      "Epoch 9/20\n",
      "60000/60000 [==============================] - 5s 81us/sample - loss: 0.5225 - accuracy: 0.8426 - val_loss: 0.3195 - val_accuracy: 0.9101\n",
      "Epoch 10/20\n",
      "60000/60000 [==============================] - 5s 83us/sample - loss: 0.5041 - accuracy: 0.8493 - val_loss: 0.3151 - val_accuracy: 0.9099\n",
      "Epoch 11/20\n",
      "60000/60000 [==============================] - 5s 82us/sample - loss: 0.4896 - accuracy: 0.8552 - val_loss: 0.3128 - val_accuracy: 0.9116\n",
      "Epoch 12/20\n",
      "60000/60000 [==============================] - 5s 82us/sample - loss: 0.4856 - accuracy: 0.8571 - val_loss: 0.3117 - val_accuracy: 0.9117\n",
      "Epoch 13/20\n",
      "60000/60000 [==============================] - 5s 84us/sample - loss: 0.4810 - accuracy: 0.8595 - val_loss: 0.3102 - val_accuracy: 0.9133\n",
      "Epoch 14/20\n",
      "60000/60000 [==============================] - 5s 82us/sample - loss: 0.4743 - accuracy: 0.8604 - val_loss: 0.3061 - val_accuracy: 0.9133\n",
      "Epoch 15/20\n",
      "60000/60000 [==============================] - 5s 84us/sample - loss: 0.4703 - accuracy: 0.8621 - val_loss: 0.3058 - val_accuracy: 0.9136\n",
      "Epoch 16/20\n",
      "60000/60000 [==============================] - 5s 83us/sample - loss: 0.4627 - accuracy: 0.8651 - val_loss: 0.3039 - val_accuracy: 0.9146\n",
      "Epoch 17/20\n",
      "60000/60000 [==============================] - 5s 82us/sample - loss: 0.4603 - accuracy: 0.8671 - val_loss: 0.3041 - val_accuracy: 0.9133\n",
      "Epoch 18/20\n",
      "60000/60000 [==============================] - 5s 83us/sample - loss: 0.4528 - accuracy: 0.8694 - val_loss: 0.3037 - val_accuracy: 0.9150\n",
      "Epoch 19/20\n",
      "60000/60000 [==============================] - 5s 83us/sample - loss: 0.4477 - accuracy: 0.8686 - val_loss: 0.3007 - val_accuracy: 0.9147\n",
      "Epoch 20/20\n",
      "60000/60000 [==============================] - 5s 83us/sample - loss: 0.4500 - accuracy: 0.8697 - val_loss: 0.3005 - val_accuracy: 0.9145\n"
     ]
    }
   ],
   "source": [
    "model_dropout = create_model(dropout_rate=0.5)\n",
    "hist_dropout = model_dropout.fit(X_train, y_train, \n",
    "                                 validation_data=(X_test, y_test), \n",
    "                                 epochs=20, batch_size=256)"
   ]
  },
  {
   "cell_type": "code",
   "execution_count": 7,
   "metadata": {
    "scrolled": true
   },
   "outputs": [
    {
     "name": "stdout",
     "output_type": "stream",
     "text": [
      "Train on 60000 samples, validate on 10000 samples\n",
      "Epoch 1/20\n",
      "60000/60000 [==============================] - 3s 51us/sample - loss: 0.8059 - accuracy: 0.7888 - val_loss: 0.4601 - val_accuracy: 0.8772\n",
      "Epoch 2/20\n",
      "60000/60000 [==============================] - 2s 41us/sample - loss: 0.4320 - accuracy: 0.8806 - val_loss: 0.3746 - val_accuracy: 0.8955\n",
      "Epoch 3/20\n",
      "60000/60000 [==============================] - 3s 42us/sample - loss: 0.3770 - accuracy: 0.8943 - val_loss: 0.3446 - val_accuracy: 0.9035\n",
      "Epoch 4/20\n",
      "60000/60000 [==============================] - 3s 42us/sample - loss: 0.3511 - accuracy: 0.9009 - val_loss: 0.3279 - val_accuracy: 0.9067\n",
      "Epoch 5/20\n",
      "60000/60000 [==============================] - 2s 41us/sample - loss: 0.3355 - accuracy: 0.9052 - val_loss: 0.3167 - val_accuracy: 0.9085\n",
      "Epoch 6/20\n",
      "60000/60000 [==============================] - 2s 41us/sample - loss: 0.3246 - accuracy: 0.9085 - val_loss: 0.3075 - val_accuracy: 0.9120\n",
      "Epoch 7/20\n",
      "60000/60000 [==============================] - 3s 42us/sample - loss: 0.3165 - accuracy: 0.9106 - val_loss: 0.3020 - val_accuracy: 0.9128\n",
      "Epoch 8/20\n",
      "60000/60000 [==============================] - 3s 42us/sample - loss: 0.3101 - accuracy: 0.9128 - val_loss: 0.2980 - val_accuracy: 0.9148\n",
      "Epoch 9/20\n",
      "60000/60000 [==============================] - 2s 41us/sample - loss: 0.3049 - accuracy: 0.9145 - val_loss: 0.2950 - val_accuracy: 0.9179\n",
      "Epoch 10/20\n",
      "60000/60000 [==============================] - 2s 41us/sample - loss: 0.3007 - accuracy: 0.9159 - val_loss: 0.2922 - val_accuracy: 0.9163\n",
      "Epoch 11/20\n",
      "60000/60000 [==============================] - 3s 42us/sample - loss: 0.2968 - accuracy: 0.9169 - val_loss: 0.2902 - val_accuracy: 0.9183\n",
      "Epoch 12/20\n",
      "60000/60000 [==============================] - 3s 42us/sample - loss: 0.2937 - accuracy: 0.9179 - val_loss: 0.2866 - val_accuracy: 0.9198\n",
      "Epoch 13/20\n",
      "60000/60000 [==============================] - 3s 43us/sample - loss: 0.2911 - accuracy: 0.9187 - val_loss: 0.2844 - val_accuracy: 0.9189\n",
      "Epoch 14/20\n",
      "60000/60000 [==============================] - 3s 43us/sample - loss: 0.2884 - accuracy: 0.9194 - val_loss: 0.2827 - val_accuracy: 0.9205\n",
      "Epoch 15/20\n",
      "60000/60000 [==============================] - 3s 43us/sample - loss: 0.2864 - accuracy: 0.9202 - val_loss: 0.2822 - val_accuracy: 0.9199\n",
      "Epoch 16/20\n",
      "60000/60000 [==============================] - 3s 44us/sample - loss: 0.2843 - accuracy: 0.9204 - val_loss: 0.2832 - val_accuracy: 0.9198\n",
      "Epoch 17/20\n",
      "60000/60000 [==============================] - 3s 42us/sample - loss: 0.2827 - accuracy: 0.9215 - val_loss: 0.2811 - val_accuracy: 0.9210\n",
      "Epoch 18/20\n",
      "60000/60000 [==============================] - 2s 41us/sample - loss: 0.2811 - accuracy: 0.9222 - val_loss: 0.2789 - val_accuracy: 0.9217\n",
      "Epoch 19/20\n",
      "60000/60000 [==============================] - 3s 43us/sample - loss: 0.2793 - accuracy: 0.9226 - val_loss: 0.2777 - val_accuracy: 0.9208\n",
      "Epoch 20/20\n",
      "60000/60000 [==============================] - 3s 44us/sample - loss: 0.2779 - accuracy: 0.9225 - val_loss: 0.2770 - val_accuracy: 0.9217\n"
     ]
    }
   ],
   "source": [
    "model = create_model()\n",
    "hist = model.fit(X_train, y_train,\n",
    "                 validation_data=(X_test, y_test), \n",
    "                 epochs=20, batch_size=256)"
   ]
  },
  {
   "cell_type": "code",
   "execution_count": 8,
   "metadata": {},
   "outputs": [
    {
     "data": {
      "image/png": "[encoded data removed]",
      "text/plain": [
       "<Figure size 432x288 with 1 Axes>"
      ]
     },
     "metadata": {
      "needs_background": "light"
     },
     "output_type": "display_data"
    }
   ],
   "source": [
    "plt.plot(hist_dropout.history['loss'], label=\"Droput\")\n",
    "plt.plot(hist.history['loss'], label=\"No Dropout\")\n",
    "plt.title(\"Effect of Dropout on Loss\")\n",
    "plt.ylabel(\"Loss\")\n",
    "plt.xlabel(\"Epochs\")\n",
    "plt.legend(loc=\"best\")\n",
    "plt.show()"
   ]
  },
  {
   "cell_type": "code",
   "execution_count": 9,
   "metadata": {},
   "outputs": [
    {
     "data": {
      "image/png": "[encoded data removed]",
      "text/plain": [
       "<Figure size 432x288 with 1 Axes>"
      ]
     },
     "metadata": {
      "needs_background": "light"
     },
     "output_type": "display_data"
    }
   ],
   "source": [
    "plt.plot(hist_dropout.history['accuracy'], label=\"Droput\")\n",
    "plt.plot(hist.history['accuracy'], label=\"No Dropout\")\n",
    "plt.title(\"Effect of Dropout on Accuracy\")\n",
    "plt.ylabel(\"Accuracy\")\n",
    "plt.xlabel(\"Epochs\")\n",
    "plt.legend(loc=\"best\")\n",
    "plt.show()"
   ]
  }
 ],
 "metadata": {
  "kernelspec": {
   "display_name": "Python 3",
   "language": "python",
   "name": "python3"
  },
  "language_info": {
   "codemirror_mode": {
    "name": "ipython",
    "version": 3
   },
   "file_extension": ".py",
   "mimetype": "text/x-python",
   "name": "python",
   "nbconvert_exporter": "python",
   "pygments_lexer": "ipython3",
   "version": "3.7.3"
  }
 },
 "nbformat": 4,
 "nbformat_minor": 4
}
