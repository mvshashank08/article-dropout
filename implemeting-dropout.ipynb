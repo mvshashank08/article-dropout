{
 "cells": [
  {
   "cell_type": "code",
   "execution_count": 1,
   "metadata": {},
   "outputs": [],
   "source": [
    "import numpy as np\n",
    "import matplotlib.pyplot as plt\n",
    "\n",
    "from tensorflow import keras\n",
    "from tensorflow.keras.layers import Dense, Dropout"
   ]
  },
  {
   "cell_type": "code",
   "execution_count": 2,
   "metadata": {},
   "outputs": [
    {
     "name": "stdout",
     "output_type": "stream",
     "text": [
      "X_train: (60000, 28, 28), y_train: (60000,)\n",
      "X_test: (10000, 28, 28), y_test: (10000,)\n"
     ]
    }
   ],
   "source": [
    "(X_train, y_train), (X_test, y_test) = keras.datasets.mnist.load_data()\n",
    "\n",
    "print(\"X_train: {}, y_train: {}\".format(X_train.shape, y_train.shape))\n",
    "print(\"X_test: {}, y_test: {}\".format(X_test.shape, y_test.shape))"
   ]
  },
  {
   "cell_type": "code",
   "execution_count": 3,
   "metadata": {},
   "outputs": [
    {
     "data": {
      "image/png": "[encoded data removed]",
      "text/plain": [
       "<Figure size 432x288 with 1 Axes>"
      ]
     },
     "metadata": {
      "needs_background": "light"
     },
     "output_type": "display_data"
    }
   ],
   "source": [
    "plt.imshow(X_train[0], cmap=\"gray\")\n",
    "plt.show()"
   ]
  },
  {
   "cell_type": "code",
   "execution_count": 4,
   "metadata": {},
   "outputs": [
    {
     "name": "stdout",
     "output_type": "stream",
     "text": [
      "X_train: (60000, 784), y_train: (60000, 10)\n",
      "X_test: (10000, 784), y_test: (10000, 10)\n"
     ]
    }
   ],
   "source": [
    "X_train = X_train.reshape(X_train.shape[0], -1)/ 255\n",
    "X_test = X_test.reshape(X_test.shape[0], -1)/ 255\n",
    "\n",
    "y_train = keras.utils.to_categorical(y_train)\n",
    "y_test = keras.utils.to_categorical(y_test)\n",
    "\n",
    "num_classes = y_test.shape[1]\n",
    "\n",
    "print(\"X_train: {}, y_train: {}\".format(X_train.shape, y_train.shape))\n",
    "print(\"X_test: {}, y_test: {}\".format(X_test.shape, y_test.shape))"
   ]
  },
  {
   "cell_type": "code",
   "execution_count": 5,
   "metadata": {},
   "outputs": [],
   "source": [
    "def create_model(dropout_rate=0.0):\n",
    "    if(dropout_rate > 0.0):\n",
    "        model = keras.Sequential([\n",
    "            Dense(512),\n",
    "            Dropout(rate=dropout_rate),\n",
    "            Dense(256),\n",
    "            Dropout(rate=dropout_rate),\n",
    "            Dense(128),\n",
    "            Dropout(rate=dropout_rate),\n",
    "            Dense(num_classes, activation=\"softmax\")\n",
    "        ])\n",
    "    else:\n",
    "        model = keras.Sequential([\n",
    "            Dense(512),\n",
    "            Dense(256),\n",
    "            Dense(128),\n",
    "            Dense(num_classes, activation=\"softmax\")\n",
    "        ])\n",
    "    \n",
    "    # Compile model\n",
    "    model.compile(loss='categorical_crossentropy', optimizer='sgd', metrics=['accuracy'])\n",
    "    return model"
   ]
  },
  {
   "cell_type": "code",
   "execution_count": 6,
   "metadata": {
    "scrolled": true
   },
   "outputs": [
    {
     "name": "stdout",
     "output_type": "stream",
     "text": [
      "Train on 60000 samples, validate on 10000 samples\n",
      "Epoch 1/20\n",
      "60000/60000 [==============================] - 5s 88us/sample - loss: 1.3894 - accuracy: 0.5548 - val_loss: 0.4822 - val_accuracy: 0.8653\n",
      "Epoch 2/20\n",
      "60000/60000 [==============================] - 5s 81us/sample - loss: 0.7837 - accuracy: 0.7493 - val_loss: 0.3903 - val_accuracy: 0.8881\n",
      "Epoch 3/20\n",
      "60000/60000 [==============================] - 5s 85us/sample - loss: 0.6760 - accuracy: 0.7885 - val_loss: 0.3617 - val_accuracy: 0.8947\n",
      "Epoch 4/20\n",
      "60000/60000 [==============================] - 5s 87us/sample - loss: 0.6200 - accuracy: 0.8094 - val_loss: 0.3463 - val_accuracy: 0.8995\n",
      "Epoch 5/20\n",
      "60000/60000 [==============================] - 5s 85us/sample - loss: 0.5863 - accuracy: 0.8211 - val_loss: 0.3383 - val_accuracy: 0.9007\n",
      "Epoch 6/20\n",
      "60000/60000 [==============================] - 5s 84us/sample - loss: 0.5653 - accuracy: 0.8288 - val_loss: 0.3303 - val_accuracy: 0.9031\n",
      "Epoch 7/20\n",
      "60000/60000 [==============================] - 5s 85us/sample - loss: 0.5429 - accuracy: 0.8374 - val_loss: 0.3251 - val_accuracy: 0.9053\n",
      "Epoch 8/20\n",
      "60000/60000 [==============================] - 5s 82us/sample - loss: 0.5322 - accuracy: 0.8406 - val_loss: 0.3210 - val_accuracy: 0.9079\n",
      "Epoch 9/20\n",
      "60000/60000 [==============================] - 5s 84us/sample - loss: 0.5141 - accuracy: 0.8479 - val_loss: 0.3192 - val_accuracy: 0.9087\n",
      "Epoch 10/20\n",
      "60000/60000 [==============================] - 5s 85us/sample - loss: 0.5076 - accuracy: 0.8490 - val_loss: 0.3156 - val_accuracy: 0.9107\n",
      "Epoch 11/20\n",
      "60000/60000 [==============================] - 5s 86us/sample - loss: 0.4957 - accuracy: 0.8527 - val_loss: 0.3144 - val_accuracy: 0.9108\n",
      "Epoch 12/20\n",
      "60000/60000 [==============================] - 5s 85us/sample - loss: 0.4889 - accuracy: 0.8554 - val_loss: 0.3105 - val_accuracy: 0.9134\n",
      "Epoch 13/20\n",
      "60000/60000 [==============================] - 5s 84us/sample - loss: 0.4823 - accuracy: 0.8588 - val_loss: 0.3089 - val_accuracy: 0.9130\n",
      "Epoch 14/20\n",
      "60000/60000 [==============================] - 5s 85us/sample - loss: 0.4774 - accuracy: 0.8620 - val_loss: 0.3067 - val_accuracy: 0.9138\n",
      "Epoch 15/20\n",
      "60000/60000 [==============================] - 5s 88us/sample - loss: 0.4701 - accuracy: 0.8629 - val_loss: 0.3057 - val_accuracy: 0.9136\n",
      "Epoch 16/20\n",
      "60000/60000 [==============================] - 5s 85us/sample - loss: 0.4625 - accuracy: 0.8646 - val_loss: 0.3044 - val_accuracy: 0.9129\n",
      "Epoch 17/20\n",
      "60000/60000 [==============================] - 5s 84us/sample - loss: 0.4611 - accuracy: 0.8645 - val_loss: 0.3047 - val_accuracy: 0.9145\n",
      "Epoch 18/20\n",
      "60000/60000 [==============================] - 5s 84us/sample - loss: 0.4576 - accuracy: 0.8662 - val_loss: 0.3025 - val_accuracy: 0.9144\n",
      "Epoch 19/20\n",
      "60000/60000 [==============================] - 5s 85us/sample - loss: 0.4489 - accuracy: 0.8681 - val_loss: 0.3013 - val_accuracy: 0.9145\n",
      "Epoch 20/20\n",
      "60000/60000 [==============================] - 5s 85us/sample - loss: 0.4491 - accuracy: 0.8697 - val_loss: 0.2995 - val_accuracy: 0.9153\n"
     ]
    }
   ],
   "source": [
    "model_dropout = create_model(dropout_rate=0.5)\n",
    "hist_dropout = model_dropout.fit(X_train, y_train, \n",
    "                                 validation_data=(X_test, y_test), \n",
    "                                 epochs=20, batch_size=256)"
   ]
  },
  {
   "cell_type": "code",
   "execution_count": 10,
   "metadata": {},
   "outputs": [
    {
     "name": "stdout",
     "output_type": "stream",
     "text": [
      "Model: \"sequential\"\n",
      "_________________________________________________________________\n",
      "Layer (type)                 Output Shape              Param #   \n",
      "=================================================================\n",
      "dense (Dense)                multiple                  401920    \n",
      "_________________________________________________________________\n",
      "dropout (Dropout)            multiple                  0         \n",
      "_________________________________________________________________\n",
      "dense_1 (Dense)              multiple                  131328    \n",
      "_________________________________________________________________\n",
      "dropout_1 (Dropout)          multiple                  0         \n",
      "_________________________________________________________________\n",
      "dense_2 (Dense)              multiple                  32896     \n",
      "_________________________________________________________________\n",
      "dropout_2 (Dropout)          multiple                  0         \n",
      "_________________________________________________________________\n",
      "dense_3 (Dense)              multiple                  1290      \n",
      "=================================================================\n",
      "Total params: 567,434\n",
      "Trainable params: 567,434\n",
      "Non-trainable params: 0\n",
      "_________________________________________________________________\n"
     ]
    }
   ],
   "source": [
    "model_dropout.summary()"
   ]
  },
  {
   "cell_type": "code",
   "execution_count": 7,
   "metadata": {
    "scrolled": true
   },
   "outputs": [
    {
     "name": "stdout",
     "output_type": "stream",
     "text": [
      "Train on 60000 samples, validate on 10000 samples\n",
      "Epoch 1/20\n",
      "60000/60000 [==============================] - 3s 52us/sample - loss: 0.8577 - accuracy: 0.7716 - val_loss: 0.4691 - val_accuracy: 0.8768\n",
      "Epoch 2/20\n",
      "60000/60000 [==============================] - 2s 41us/sample - loss: 0.4349 - accuracy: 0.8806 - val_loss: 0.3753 - val_accuracy: 0.8962\n",
      "Epoch 3/20\n",
      "60000/60000 [==============================] - 3s 42us/sample - loss: 0.3757 - accuracy: 0.8947 - val_loss: 0.3445 - val_accuracy: 0.9033\n",
      "Epoch 4/20\n",
      "60000/60000 [==============================] - 3s 42us/sample - loss: 0.3496 - accuracy: 0.9018 - val_loss: 0.3248 - val_accuracy: 0.9084\n",
      "Epoch 5/20\n",
      "60000/60000 [==============================] - 3s 43us/sample - loss: 0.3339 - accuracy: 0.9055 - val_loss: 0.3147 - val_accuracy: 0.9092\n",
      "Epoch 6/20\n",
      "60000/60000 [==============================] - 3s 42us/sample - loss: 0.3231 - accuracy: 0.9085 - val_loss: 0.3071 - val_accuracy: 0.9109\n",
      "Epoch 7/20\n",
      "60000/60000 [==============================] - 2s 40us/sample - loss: 0.3154 - accuracy: 0.9109 - val_loss: 0.3031 - val_accuracy: 0.9140\n",
      "Epoch 8/20\n",
      "60000/60000 [==============================] - 2s 41us/sample - loss: 0.3091 - accuracy: 0.9126 - val_loss: 0.2970 - val_accuracy: 0.9164\n",
      "Epoch 9/20\n",
      "60000/60000 [==============================] - 3s 42us/sample - loss: 0.3043 - accuracy: 0.9140 - val_loss: 0.2939 - val_accuracy: 0.9171\n",
      "Epoch 10/20\n",
      "60000/60000 [==============================] - 3s 42us/sample - loss: 0.3000 - accuracy: 0.9152 - val_loss: 0.2911 - val_accuracy: 0.9173\n",
      "Epoch 11/20\n",
      "60000/60000 [==============================] - 2s 42us/sample - loss: 0.2966 - accuracy: 0.9164 - val_loss: 0.2879 - val_accuracy: 0.9170\n",
      "Epoch 12/20\n",
      "60000/60000 [==============================] - 3s 42us/sample - loss: 0.2934 - accuracy: 0.9173 - val_loss: 0.2868 - val_accuracy: 0.9175\n",
      "Epoch 13/20\n",
      "60000/60000 [==============================] - 3s 43us/sample - loss: 0.2910 - accuracy: 0.9184 - val_loss: 0.2852 - val_accuracy: 0.9200\n",
      "Epoch 14/20\n",
      "60000/60000 [==============================] - 3s 42us/sample - loss: 0.2883 - accuracy: 0.9190 - val_loss: 0.2834 - val_accuracy: 0.9199\n",
      "Epoch 15/20\n",
      "60000/60000 [==============================] - 2s 41us/sample - loss: 0.2862 - accuracy: 0.9200 - val_loss: 0.2833 - val_accuracy: 0.9177\n",
      "Epoch 16/20\n",
      "60000/60000 [==============================] - 2s 41us/sample - loss: 0.2842 - accuracy: 0.9207 - val_loss: 0.2807 - val_accuracy: 0.9199\n",
      "Epoch 17/20\n",
      "60000/60000 [==============================] - 3s 42us/sample - loss: 0.2825 - accuracy: 0.9214 - val_loss: 0.2791 - val_accuracy: 0.9188\n",
      "Epoch 18/20\n",
      "60000/60000 [==============================] - 3s 42us/sample - loss: 0.2809 - accuracy: 0.9216 - val_loss: 0.2786 - val_accuracy: 0.9203\n",
      "Epoch 19/20\n",
      "60000/60000 [==============================] - 2s 41us/sample - loss: 0.2793 - accuracy: 0.9224 - val_loss: 0.2784 - val_accuracy: 0.9209\n",
      "Epoch 20/20\n",
      "60000/60000 [==============================] - 2s 40us/sample - loss: 0.2780 - accuracy: 0.9226 - val_loss: 0.2780 - val_accuracy: 0.9212\n"
     ]
    }
   ],
   "source": [
    "model = create_model()\n",
    "hist = model.fit(X_train, y_train,\n",
    "                 validation_data=(X_test, y_test), \n",
    "                 epochs=20, batch_size=256)"
   ]
  },
  {
   "cell_type": "code",
   "execution_count": 8,
   "metadata": {},
   "outputs": [
    {
     "data": {
      "image/png": "[encoded data removed]",
      "text/plain": [
       "<Figure size 432x288 with 1 Axes>"
      ]
     },
     "metadata": {
      "needs_background": "light"
     },
     "output_type": "display_data"
    }
   ],
   "source": [
    "plt.plot(hist_dropout.history['loss'], label=\"Dropout\")\n",
    "plt.plot(hist.history['loss'], label=\"No Dropout\")\n",
    "plt.title(\"Effect of Dropout on Loss\")\n",
    "plt.ylabel(\"Loss\")\n",
    "plt.xlabel(\"Epochs\")\n",
    "plt.legend(loc=\"best\")\n",
    "plt.show()"
   ]
  },
  {
   "cell_type": "code",
   "execution_count": 9,
   "metadata": {},
   "outputs": [
    {
     "data": {
      "image/png": "[encoded data removed]",
      "text/plain": [
       "<Figure size 432x288 with 1 Axes>"
      ]
     },
     "metadata": {
      "needs_background": "light"
     },
     "output_type": "display_data"
    }
   ],
   "source": [
    "plt.plot(hist_dropout.history['accuracy'], label=\"Dropout\")\n",
    "plt.plot(hist.history['accuracy'], label=\"No Dropout\")\n",
    "plt.title(\"Effect of Dropout on Accuracy\")\n",
    "plt.ylabel(\"Accuracy\")\n",
    "plt.xlabel(\"Epochs\")\n",
    "plt.legend(loc=\"best\")\n",
    "plt.show()"
   ]
  }
 ],
 "metadata": {
  "kernelspec": {
   "display_name": "Python 3",
   "language": "python",
   "name": "python3"
  },
  "language_info": {
   "codemirror_mode": {
    "name": "ipython",
    "version": 3
   },
   "file_extension": ".py",
   "mimetype": "text/x-python",
   "name": "python",
   "nbconvert_exporter": "python",
   "pygments_lexer": "ipython3",
   "version": "3.7.3"
  }
 },
 "nbformat": 4,
 "nbformat_minor": 4
}
